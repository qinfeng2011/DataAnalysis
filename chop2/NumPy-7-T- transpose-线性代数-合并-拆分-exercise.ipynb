{
 "cells": [
  {
   "cell_type": "code",
   "execution_count": 1,
   "metadata": {
    "collapsed": true
   },
   "outputs": [],
   "source": [
    "import numpy as np"
   ]
  },
  {
   "cell_type": "code",
   "execution_count": 10,
   "metadata": {
    "collapsed": false
   },
   "outputs": [
    {
     "data": {
      "text/plain": [
       "array([[-1.0638519 , -0.24282288,  0.42287439, -0.02977967, -3.27863949],\n",
       "       [ 1.        ,  0.51963191,  0.0839926 ,  0.83294479, -0.59976879],\n",
       "       [ 1.29319107,  2.        ,  0.76525369,  0.14425807, -1.46046854],\n",
       "       [-0.2932402 ,  2.08761224,  3.        , -0.27915143,  0.73965204],\n",
       "       [-0.75065948, -0.17794955,  2.07293107,  4.        , -0.63025477]])"
      ]
     },
     "execution_count": 10,
     "metadata": {},
     "output_type": "execute_result"
    }
   ],
   "source": [
    "# 18 - Create a 5x5 matrix with values 1,2,3,4 just below the diagonal \n",
    "# (创建一个5x5的矩阵，将在主对角线之下一行值赋值为1，2，3，4)\n",
    "arr1 = np.random.randn(5,5)\n",
    "for i in range(1,5):\n",
    "    arr1[i][i-1] = i\n",
    "arr1"
   ]
  },
  {
   "cell_type": "code",
   "execution_count": 16,
   "metadata": {
    "collapsed": false
   },
   "outputs": [
    {
     "name": "stdout",
     "output_type": "stream",
     "text": [
      "(5, 2)\n"
     ]
    }
   ],
   "source": [
    "# 24 - Multiply a 5x3 matrix by a 3x2 matrix (real matrix product)\n",
    "# (将一个5x3的矩阵与一个3x2的矩阵相乘)\n",
    "arr2 = np.random.randn(5,3)\n",
    "arr3 = np.random.randn(3,2)\n",
    "arr2_dot_arr3 = np.dot(arr2,arr3)\n",
    "print(arr2_dot_arr3.shape)#(5,3)与（3,2）相乘的矩阵应该为（5,2）"
   ]
  },
  {
   "cell_type": "code",
   "execution_count": 27,
   "metadata": {
    "collapsed": false
   },
   "outputs": [],
   "source": [
    "#Dot and Cross\n",
    "index = int(input())\n",
    "arr1 = np.array([input().split() for _ in range(index)], dtype = int)\n",
    "arr2 = np.array([input().split() for _ in range(index)], dtype = int)\n",
    "print(np.dot(arr1,arr2))\n",
    "    "
   ]
  },
  {
   "cell_type": "code",
   "execution_count": 33,
   "metadata": {
    "collapsed": false
   },
   "outputs": [],
   "source": [
    "#Linear Algebra\n",
    "index = int(input())\n",
    "matrix = np.array([input().split() for _ in range(index)], dtype = float)\n",
    "print(np.linalg.det(matrix))"
   ]
  },
  {
   "cell_type": "code",
   "execution_count": null,
   "metadata": {
    "collapsed": true
   },
   "outputs": [],
   "source": []
  }
 ],
 "metadata": {
  "kernelspec": {
   "display_name": "Python 3",
   "language": "python",
   "name": "python3"
  },
  "language_info": {
   "codemirror_mode": {
    "name": "ipython",
    "version": 3
   },
   "file_extension": ".py",
   "mimetype": "text/x-python",
   "name": "python",
   "nbconvert_exporter": "python",
   "pygments_lexer": "ipython3",
   "version": "3.6.0"
  }
 },
 "nbformat": 4,
 "nbformat_minor": 2
}
